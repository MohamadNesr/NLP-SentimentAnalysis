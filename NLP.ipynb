{
  "nbformat": 4,
  "nbformat_minor": 0,
  "metadata": {
    "colab": {
      "provenance": []
    },
    "kernelspec": {
      "name": "python3",
      "display_name": "Python 3"
    },
    "language_info": {
      "name": "python"
    }
  },
  "cells": [
    {
      "cell_type": "code",
      "execution_count": null,
      "metadata": {
        "colab": {
          "base_uri": "https://localhost:8080/"
        },
        "id": "3G6GfOXWqbhi",
        "outputId": "cebe58d1-8077-4e7b-94d1-b06a09844e0d"
      },
      "outputs": [
        {
          "output_type": "stream",
          "name": "stderr",
          "text": [
            "[nltk_data] Downloading package stopwords to /root/nltk_data...\n",
            "[nltk_data]   Package stopwords is already up-to-date!\n"
          ]
        }
      ],
      "source": [
        "import torchtext.vocab as vocab\n",
        "from torch import tensor\n",
        "from torch import nn\n",
        "import numpy as np\n",
        "import torch\n",
        "import matplotlib.pyplot as plt\n",
        "from collections import Counter\n",
        "from torch.utils.data import DataLoader, TensorDataset\n",
        "from sklearn.metrics import confusion_matrix\n",
        "import seaborn as sns\n",
        "import nltk\n",
        "nltk.download('stopwords')\n",
        "from nltk.corpus import stopwords"
      ]
    },
    {
      "cell_type": "code",
      "source": [
        "\n",
        "# load file with native open that returns the text list and the associated labels\n",
        "def load_file(filename):\n",
        "    '''\n",
        "    :param filename: name of the file to load\n",
        "    :return: text list and labels list\n",
        "    '''\n",
        "    texts = []\n",
        "    labels = []\n",
        "    with open(filename, 'r', encoding='utf-8') as f:\n",
        "        lines = f.readlines()\n",
        "        for line in lines:\n",
        "            text, label = line.replace(\"\\n\",\"\").split(\";\")\n",
        "            texts.append(text)\n",
        "            labels.append(label)\n",
        "    return texts, labels\n",
        "\n",
        "# ------------------ LOAD DATA -------------------\n",
        "txt_train,lbl_train = load_file(\"train.txt\")\n",
        "txt_test,lbl_test = load_file(\"test.txt\")\n",
        "txt_val,lbl_val = load_file(\"val.txt\")\n"
      ],
      "metadata": {
        "id": "7_VtbsqmqpRg"
      },
      "execution_count": null,
      "outputs": []
    },
    {
      "cell_type": "code",
      "source": [
        "# ----------------- REMOVE STOP WORDS FROM TEXT -----------------\n",
        "stop_words = set(stopwords.words('english'))\n",
        "def remove_stop_words(text, stpwd):\n",
        "    '''\n",
        "    :param text: text to remove stop words from\n",
        "    :param stpwd: list of stop words\n",
        "    :return: text without stop words\n",
        "    '''\n",
        "    txt = []\n",
        "    str = ''\n",
        "    for i in range(len(text)):\n",
        "        sentence = text[i]\n",
        "        for word in sentence.split():\n",
        "            if word not in stpwd:\n",
        "                str += word + ' '\n",
        "        txt.append(str)\n",
        "        str = ''\n",
        "    return txt\n",
        "# ------------------ TF-IDF -------------------\n",
        "def tf_idf(text):\n",
        "    ''''\n",
        "    :param text: text to compute tf-idf\n",
        "    :return: tf-idf matrix\n",
        "    '''\n",
        "    txt = []\n",
        "    str = ''\n",
        "    words_used = ' '.join(text).split(' ')\n",
        "    word_count = dict(Counter(words_used))\n",
        "    # get words used less than 5 times or more than 1000 times\n",
        "    words_to_remove = [word for word in word_count if word_count[word] < 5 or word_count[word] > 1000]\n",
        "    # remove words from text\n",
        "    for i in range(len(text)):\n",
        "        sentence = text[i]\n",
        "        for word in sentence.split():\n",
        "            if word not in words_to_remove:\n",
        "                str += word + ' '\n",
        "        txt.append(str)\n",
        "        str = ''\n",
        "    return txt\n",
        "\n",
        "# ------------------ PREPROCESSING -------------------\n",
        "txt_train = remove_stop_words(txt_train, stop_words)\n",
        "txt_val = remove_stop_words(txt_val, stop_words)\n",
        "txt_test = remove_stop_words(txt_test, stop_words)\n",
        "\n",
        "txt_train = tf_idf(txt_train)\n",
        "txt_val = tf_idf(txt_val)\n",
        "txt_test = tf_idf(txt_test)\n",
        "\n",
        "txt = txt_train + txt_test + txt_val\n",
        "lbl = lbl_train + lbl_test + lbl_val"
      ],
      "metadata": {
        "id": "b5t2JWHuqurH"
      },
      "execution_count": null,
      "outputs": []
    },
    {
      "cell_type": "code",
      "source": [
        "# ------------------ TOKENIZE -------------------\n",
        "def yield_tokens(data_iter):\n",
        "    '''\n",
        "    :param data_iter: iterator over the data\n",
        "    :return: yield tokens\n",
        "    '''\n",
        "    for text in data_iter:\n",
        "        yield text.strip().split()\n",
        "\n",
        "# -------------- BUILD VOCABULARY ----------------\n",
        "def build_vocab(iterator):\n",
        "    '''\n",
        "    :param iterator: iterator over the data\n",
        "    :return: vocabulary\n",
        "    '''\n",
        "    words = yield_tokens(iterator)\n",
        "    voc = vocab.build_vocab_from_iterator(words, specials=[\"<unk>\"])\n",
        "    return voc\n",
        "\n",
        "def transform_vocab_to_tensor(vocab):\n",
        "    '''\n",
        "    :param vocab: vocabulary\n",
        "    :return: tensor of the vocabulary\n",
        "    '''\n",
        "    return tensor(list(vocab.get_stoi().values()))\n",
        "\n",
        "# ------------------ APPLY VOCABULARY -------------------\n",
        "def apply_vocab_to_labels(labels, vocab):\n",
        "    '''\n",
        "    :param labels: labels to apply vocabulary to\n",
        "    :param vocab: vocabulary\n",
        "    :return: labels encoded\n",
        "    '''\n",
        "    return [vocab[label] for label in labels]\n",
        "\n",
        "# ------------------ ENCODE LABELS -------------------\n",
        "def encode_labels(labels, vocab):\n",
        "    '''\n",
        "    :param labels: labels to encode\n",
        "    :param vocab: vocabulary\n",
        "    :return: encoded labels\n",
        "    '''\n",
        "    encoded = list()\n",
        "    for label in labels:\n",
        "        encoded_label = vocab[label]\n",
        "        encoded.append(encoded_label)\n",
        "    return encoded\n",
        "\n",
        "# ------------------ ENCODE TEXT -------------------\n",
        "def encode_text(text, vocab):\n",
        "    '''\n",
        "    :param text: text to encode\n",
        "    :param vocab: vocabulary\n",
        "    :return: encoded text\n",
        "    '''\n",
        "    encoded_reviews = list()\n",
        "    for sentence in text:\n",
        "        encoded_review = list()\n",
        "        for word in sentence.split():\n",
        "            if word in vocab:\n",
        "                encoded_review.append(vocab[word])\n",
        "            else:\n",
        "                encoded_review.append(vocab[\"<unk>\"])\n",
        "\n",
        "        encoded_reviews.append(encoded_review)\n",
        "    return encoded_reviews\n",
        "\n",
        "# ------------------ MAKE ALL TEXTS THE SAME LENGTH -------------------\n",
        "def pad_text(encoded, max_length):\n",
        "    '''\n",
        "    :param encoded: encoded text\n",
        "    :param max_length: max length of the text\n",
        "    :return: padded text\n",
        "    '''\n",
        "    padded = list()\n",
        "    for review in encoded:\n",
        "        if len(review) < max_length:\n",
        "            review.extend([0] * (max_length - len(review)))\n",
        "        elif len(review) > max_length:\n",
        "            review = review[:max_length]\n",
        "        padded.append(review)\n",
        "    return padded\n",
        "\n",
        "# ------------------ CREATE DATASET -------------------\n",
        "def get_dataset(text, label, vocab):\n",
        "    '''\n",
        "    :param text: text to encode\n",
        "    :param label: labels to encode\n",
        "    :param vocab: vocabulary\n",
        "    :return: dataset\n",
        "    '''\n",
        "    encoded_text = encode_text(text, vocab)\n",
        "    padded_text = pad_text(encoded_text, sentence_length)\n",
        "    encoded_label = encode_labels(label, label_vocabulary)\n",
        "    oh_label = nn.functional.one_hot(tensor(encoded_label), len(tensor_label))\n",
        "    return padded_text, oh_label\n",
        "\n",
        "# ------------------ ONE HOT ENCODER -------------------\n",
        "class do_one_hot():\n",
        "    '''\n",
        "    :param data: data to encode\n",
        "    :return: one hot encoded data\n",
        "    '''\n",
        "    def __init__(self, numClass):\n",
        "        self.numClass = numClass\n",
        "        self.encoder = nn.functional.one_hot\n",
        "\n",
        "    def make_encodage(self, line):\n",
        "        return self.encoder(torch.tensor(line).long(), num_classes=self.numClass)\n"
      ],
      "metadata": {
        "id": "gUJlhXAoq2np"
      },
      "execution_count": null,
      "outputs": []
    },
    {
      "cell_type": "code",
      "source": [
        "# ------------------------ RNN -----------------------------\n",
        "class RNN(nn.Module):\n",
        "    '''\n",
        "    :param input_size: size of the input\n",
        "    :param hidden_size: size of the hidden layer\n",
        "    :param num_layers: number of layers\n",
        "    :param num_classes: number of classes\n",
        "    :return: RNN model\n",
        "    '''\n",
        "    def __init__(self, input_size, hidden_size, output_size, emb_size):\n",
        "        super(RNN, self).__init__()\n",
        "\n",
        "        self.hidden_size = hidden_size\n",
        "        self.i2e = nn.Linear(input_size, emb_size)\n",
        "        self.i2h = nn.Linear(emb_size + hidden_size, hidden_size)\n",
        "        self.i2o = nn.Linear(emb_size + hidden_size, output_size)\n",
        "        self.softmax = nn.LogSoftmax(dim=1)\n",
        "\n",
        "    def forward(self, input, hidden):\n",
        "        dropout = nn.Dropout(p=0.12)\n",
        "        embedded = self.i2e(input)\n",
        "        combined = torch.cat((embedded, hidden), 1)\n",
        "        #dropout(combined)\n",
        "        hidden = self.i2h(combined)\n",
        "        #dropout(hidden)\n",
        "        output = self.i2o(combined)\n",
        "        #dropout(output)\n",
        "        output = self.softmax(output)\n",
        "        return output, hidden\n",
        "\n",
        "    def initHidden(self, size):\n",
        "        return torch.zeros(size, self.hidden_size, dtype=torch.long)\n"
      ],
      "metadata": {
        "id": "XcheBGtRq_Ra"
      },
      "execution_count": null,
      "outputs": []
    },
    {
      "cell_type": "code",
      "source": [
        "# ------------------ TEXT PROCESSING -------------------\n",
        "text_vocabulary = build_vocab(txt_train)\n",
        "tensor_text = transform_vocab_to_tensor(text_vocabulary)\n",
        "\n",
        "# ------------------ LABEL PROCESSiNG -------------------\n",
        "label_vocabulary = build_vocab(lbl_train)\n",
        "# print(label_vocabulary.get_stoi().keys())\n",
        "tensor_label = transform_vocab_to_tensor(label_vocabulary)\n",
        "#oh_label = nn.functional.one_hot(tensor_label, len(tensor_label))\n",
        "\n",
        "# ------------------ HYPERPARAMETERS -------------------\n",
        "sentence_encoder = do_one_hot(len(tensor_text))\n",
        "num_epochs = 15\n",
        "learning_rate = 0.0007\n",
        "batch_size = 128\n",
        "sentence_length = 15\n",
        "input_size = len(tensor_text)\n",
        "hidden_size = 128\n",
        "output_size = len(tensor_label)\n",
        "emb_size = 128\n",
        "\n",
        "rnn = RNN(input_size, hidden_size, output_size, emb_size)\n",
        "criterion = nn.NLLLoss()\n",
        "optimizer = torch.optim.Adam(rnn.parameters(), lr=learning_rate)\n",
        "\n",
        "# ------------------- FREQUENCY OF LABELS --------------------\n",
        "freq = Counter(lbl_train)\n",
        "print(freq)\n"
      ],
      "metadata": {
        "colab": {
          "base_uri": "https://localhost:8080/"
        },
        "id": "o2Oo3Dt5rR63",
        "outputId": "ee649dae-0ac6-4b89-fb60-e2996a1ee0cb"
      },
      "execution_count": null,
      "outputs": [
        {
          "output_type": "stream",
          "name": "stdout",
          "text": [
            "Counter({'joy': 5362, 'sadness': 4666, 'anger': 2159, 'fear': 1937, 'love': 1304, 'surprise': 572})\n"
          ]
        }
      ]
    },
    {
      "cell_type": "code",
      "source": [
        "# ------------------ CREATING CUSTOM DATASET -------------------\n",
        "train_dataset, train_label = get_dataset(txt_train, lbl_train, text_vocabulary)\n",
        "test_dataset, test_label = get_dataset(txt_test, lbl_test, text_vocabulary)\n",
        "val_dataset, val_label = get_dataset(txt_val, lbl_val, text_vocabulary)\n",
        "\n",
        "# ------------------ LOADING DATA -------------------\n",
        "train_dataset_tuple = TensorDataset(torch.tensor(train_dataset), train_label)\n",
        "train_dataloader = DataLoader(train_dataset_tuple, batch_size=batch_size, drop_last=True)\n",
        "# print(train_dataset_tuple[0])\n",
        "\n",
        "val_dataset_tuple = TensorDataset(torch.tensor(val_dataset), val_label)\n",
        "val_dataloader = DataLoader(val_dataset_tuple, batch_size=batch_size, shuffle=True, drop_last=True)\n",
        "\n",
        "test_dataset_tuple = TensorDataset(torch.tensor(test_dataset), test_label)\n",
        "test_dataloader = DataLoader(test_dataset_tuple, batch_size=batch_size, shuffle=True, drop_last=True)\n"
      ],
      "metadata": {
        "id": "qy9UuT95rTiU"
      },
      "execution_count": null,
      "outputs": []
    },
    {
      "cell_type": "code",
      "source": [
        "# ------------------ TRAIN & VAL -------------------\n",
        "y_train = []\n",
        "clip = 5\n",
        "counter = 0\n",
        "loss_train = []\n",
        "loss_val = []\n",
        "acc_train = []\n",
        "acc_val = []\n",
        "print(\"Training for %d epochs...\" % num_epochs)\n",
        "for epoch in range(num_epochs):\n",
        "    # ------------------ TRAINING -------------------\n",
        "    rnn.train()\n",
        "    correct = 0\n",
        "    total = 0\n",
        "    count = 0\n",
        "    loss_train_epoch = []\n",
        "    list_acc_train = []\n",
        "    print(\" ----------------------------------------------------------------------  \")\n",
        "    for i, (text, label) in enumerate(train_dataloader):\n",
        "        hidden = rnn.initHidden(batch_size)\n",
        "        data_training = sentence_encoder.make_encodage(text)\n",
        "        rnn.zero_grad()\n",
        "        for k in range(len(text[0])):\n",
        "            output, hidden = rnn(data_training[:, k, :].float(), hidden)\n",
        "        loss = criterion(output, torch.argmax(label, dim=1))\n",
        "        loss_train_epoch.append(loss.item())\n",
        "        loss.backward()\n",
        "        optimizer.step()\n",
        "        prediction = torch.argmax(output, dim=1)\n",
        "        for k in range(len(prediction)):\n",
        "            if prediction[k] == torch.argmax(label[k]):\n",
        "                correct += 1\n",
        "            total += 1\n",
        "        list_acc_train.append(correct / total)\n",
        "        count += 1\n",
        "    counter += 1\n",
        "    print(\"| Epoch: {}/{} : LOSS = {}\".format(epoch + 1, num_epochs, loss),\n",
        "            \"Accuracy = {}\".format(correct / total))\n",
        "    y_train.append(counter)\n",
        "    loss_train.append(np.mean(loss_train_epoch))\n",
        "    acc_train.append(np.mean(list_acc_train))\n",
        "\n",
        "    # ------------------ VALIDATION -------------------\n",
        "    rnn.eval()\n",
        "    correct = 0\n",
        "    total = 0\n",
        "    count = 0\n",
        "    loss_val_epoch = []\n",
        "    list_acc_val = []\n",
        "    for i, (text, label) in enumerate(val_dataloader):\n",
        "        hidden = rnn.initHidden(batch_size)\n",
        "        data_training = sentence_encoder.make_encodage(text)\n",
        "        rnn.zero_grad()\n",
        "        for k in range(len(text[0])):\n",
        "            output, hidden = rnn(data_training[:, k, :].float(), hidden)\n",
        "        loss = criterion(output, torch.argmax(label, dim=1))\n",
        "        loss_val_epoch.append(loss.item())\n",
        "        prediction = torch.argmax(output, dim=1)\n",
        "        for k in range(len(prediction)):\n",
        "            if prediction[k] == torch.argmax(label[k]):\n",
        "                correct += 1\n",
        "            total += 1\n",
        "        list_acc_val.append(correct / total)\n",
        "        count += 1\n",
        "    print(\"| EVAL Epoch: {}/{} : EVAL LOSS = {}\".format(epoch + 1, num_epochs, loss),\n",
        "            \"EVAL Accuracy = {}\".format(correct / total))\n",
        "    loss_val.append(np.mean(loss_val_epoch))\n",
        "    acc_val.append(np.mean(list_acc_val))\n"
      ],
      "metadata": {
        "colab": {
          "base_uri": "https://localhost:8080/"
        },
        "id": "iu6sHKP1rbzZ",
        "outputId": "02565d03-1b94-4bc7-f382-2436416f644a"
      },
      "execution_count": null,
      "outputs": [
        {
          "output_type": "stream",
          "name": "stdout",
          "text": [
            "Training for 15 epochs...\n",
            " ----------------------------------------------------------------------  \n"
          ]
        },
        {
          "output_type": "stream",
          "name": "stderr",
          "text": [
            "<ipython-input-6-0f102d945fc2>:109: UserWarning: To copy construct from a tensor, it is recommended to use sourceTensor.clone().detach() or sourceTensor.clone().detach().requires_grad_(True), rather than torch.tensor(sourceTensor).\n",
            "  return self.encoder(torch.tensor(line).long(), num_classes=self.numClass)\n"
          ]
        },
        {
          "output_type": "stream",
          "name": "stdout",
          "text": [
            "| Epoch: 1/15 : LOSS = 1.4277467727661133 Accuracy = 0.3225\n",
            "| EVAL Epoch: 1/15 : EVAL LOSS = 1.301043152809143 EVAL Accuracy = 0.3614583333333333\n",
            " ----------------------------------------------------------------------  \n",
            "| Epoch: 2/15 : LOSS = 1.08895742893219 Accuracy = 0.439125\n",
            "| EVAL Epoch: 2/15 : EVAL LOSS = 1.04550302028656 EVAL Accuracy = 0.4635416666666667\n",
            " ----------------------------------------------------------------------  \n",
            "| Epoch: 3/15 : LOSS = 0.9640485048294067 Accuracy = 0.5941875\n",
            "| EVAL Epoch: 3/15 : EVAL LOSS = 1.134114146232605 EVAL Accuracy = 0.5848958333333333\n",
            " ----------------------------------------------------------------------  \n",
            "| Epoch: 4/15 : LOSS = 0.9065007567405701 Accuracy = 0.688625\n",
            "| EVAL Epoch: 4/15 : EVAL LOSS = 1.177983283996582 EVAL Accuracy = 0.6364583333333333\n",
            " ----------------------------------------------------------------------  \n",
            "| Epoch: 5/15 : LOSS = 0.6100026369094849 Accuracy = 0.75975\n",
            "| EVAL Epoch: 5/15 : EVAL LOSS = 0.7435793280601501 EVAL Accuracy = 0.7338541666666667\n",
            " ----------------------------------------------------------------------  \n",
            "| Epoch: 6/15 : LOSS = 0.5234861373901367 Accuracy = 0.8431875\n",
            "| EVAL Epoch: 6/15 : EVAL LOSS = 0.4650556445121765 EVAL Accuracy = 0.7723958333333333\n",
            " ----------------------------------------------------------------------  \n",
            "| Epoch: 7/15 : LOSS = 0.4042048752307892 Accuracy = 0.885625\n",
            "| EVAL Epoch: 7/15 : EVAL LOSS = 0.6328937411308289 EVAL Accuracy = 0.7796875\n",
            " ----------------------------------------------------------------------  \n",
            "| Epoch: 8/15 : LOSS = 0.34676873683929443 Accuracy = 0.89775\n",
            "| EVAL Epoch: 8/15 : EVAL LOSS = 0.8190666437149048 EVAL Accuracy = 0.7890625\n",
            " ----------------------------------------------------------------------  \n",
            "| Epoch: 9/15 : LOSS = 0.44384974241256714 Accuracy = 0.9005625\n",
            "| EVAL Epoch: 9/15 : EVAL LOSS = 0.6592509746551514 EVAL Accuracy = 0.7682291666666666\n",
            " ----------------------------------------------------------------------  \n",
            "| Epoch: 10/15 : LOSS = 0.3000554144382477 Accuracy = 0.9038125\n",
            "| EVAL Epoch: 10/15 : EVAL LOSS = 0.8905907273292542 EVAL Accuracy = 0.7776041666666667\n",
            " ----------------------------------------------------------------------  \n",
            "| Epoch: 11/15 : LOSS = 0.2845660448074341 Accuracy = 0.9069375\n",
            "| EVAL Epoch: 11/15 : EVAL LOSS = 1.0033586025238037 EVAL Accuracy = 0.7807291666666667\n",
            " ----------------------------------------------------------------------  \n",
            "| Epoch: 12/15 : LOSS = 0.31856873631477356 Accuracy = 0.9163125\n",
            "| EVAL Epoch: 12/15 : EVAL LOSS = 0.8954198956489563 EVAL Accuracy = 0.78125\n",
            " ----------------------------------------------------------------------  \n",
            "| Epoch: 13/15 : LOSS = 0.2970224916934967 Accuracy = 0.92\n",
            "| EVAL Epoch: 13/15 : EVAL LOSS = 1.0961533784866333 EVAL Accuracy = 0.7885416666666667\n",
            " ----------------------------------------------------------------------  \n",
            "| Epoch: 14/15 : LOSS = 0.23317264020442963 Accuracy = 0.9184375\n",
            "| EVAL Epoch: 14/15 : EVAL LOSS = 1.0742441415786743 EVAL Accuracy = 0.7895833333333333\n",
            " ----------------------------------------------------------------------  \n",
            "| Epoch: 15/15 : LOSS = 0.22922495007514954 Accuracy = 0.9225\n",
            "| EVAL Epoch: 15/15 : EVAL LOSS = 0.8081243634223938 EVAL Accuracy = 0.784375\n"
          ]
        }
      ]
    },
    {
      "cell_type": "code",
      "source": [
        "plt.title(\"Loss\")\n",
        "plt.plot(y_train, loss_train, label=\"train\")\n",
        "plt.plot(y_train, loss_val, label=\"val\")\n",
        "plt.legend()\n",
        "plt.show()"
      ],
      "metadata": {
        "colab": {
          "base_uri": "https://localhost:8080/",
          "height": 281
        },
        "id": "NARgfKTlriFg",
        "outputId": "2ba6145a-6639-47d8-a00d-1cd523600bf4"
      },
      "execution_count": null,
      "outputs": [
        {
          "output_type": "display_data",
          "data": {
            "text/plain": [
              "<Figure size 432x288 with 1 Axes>"
            ],
            "image/png": "[encoded data removed]"
          },
          "metadata": {
            "needs_background": "light"
          }
        }
      ]
    },
    {
      "cell_type": "code",
      "source": [
        "plt.title(\"Accuracy\")\n",
        "plt.plot(y_train, acc_train, label=\"train\")\n",
        "plt.plot(y_train, acc_val, label=\"val\")\n",
        "plt.legend()\n",
        "plt.show()"
      ],
      "metadata": {
        "colab": {
          "base_uri": "https://localhost:8080/",
          "height": 281
        },
        "id": "K84H9m2HrjmI",
        "outputId": "66858964-0750-4588-c9ca-af9777b42f1c"
      },
      "execution_count": null,
      "outputs": [
        {
          "output_type": "display_data",
          "data": {
            "text/plain": [
              "<Figure size 432x288 with 1 Axes>"
            ],
            "image/png": "[encoded data removed]"
          },
          "metadata": {
            "needs_background": "light"
          }
        }
      ]
    },
    {
      "cell_type": "code",
      "source": [
        "# ------------------ TEST & CONFUSION MATRIX -------------------\n",
        "rnn.eval()\n",
        "correct = 0\n",
        "total = 0\n",
        "count = 0\n",
        "loss_test_epoch = []\n",
        "list_acc_test = []\n",
        "list_pred = []\n",
        "list_label = []\n",
        "print(\"Testing...\")\n",
        "print(\" ----------------------------------------------------------------------  \")\n",
        "for i, (text, label) in enumerate(test_dataloader):\n",
        "    hidden = rnn.initHidden(batch_size)\n",
        "    data_training = sentence_encoder.make_encodage(text)\n",
        "    rnn.zero_grad()\n",
        "    for k in range(len(text[0])):\n",
        "        output, hidden = rnn(data_training[:, k, :].float(), hidden)\n",
        "    loss = criterion(output, torch.argmax(label, dim=1))\n",
        "    loss_test_epoch.append(loss.item())\n",
        "    prediction = torch.argmax(output, dim=1)\n",
        "    for k in range(len(prediction)):\n",
        "        if prediction[k] == torch.argmax(label[k]):\n",
        "            correct += 1\n",
        "        total += 1\n",
        "        list_pred.append(prediction[k])\n",
        "        list_label.append(torch.argmax(label[k]))\n",
        "    list_acc_test.append(correct / total)\n",
        "    count += 1\n",
        "print(\"TEST Epoch: {}/{} : TEST LOSS = {}\".format(epoch + 1, num_epochs, loss),\n",
        "        \"TEST Accuracy = {}\".format(correct / total))\n"
      ],
      "metadata": {
        "colab": {
          "base_uri": "https://localhost:8080/"
        },
        "id": "tDAC60Dwrpaz",
        "outputId": "95927720-42a5-4cea-960a-9e814f16a4d5"
      },
      "execution_count": null,
      "outputs": [
        {
          "output_type": "stream",
          "name": "stdout",
          "text": [
            "Testing...\n",
            " ----------------------------------------------------------------------  \n"
          ]
        },
        {
          "output_type": "stream",
          "name": "stderr",
          "text": [
            "<ipython-input-6-0f102d945fc2>:109: UserWarning: To copy construct from a tensor, it is recommended to use sourceTensor.clone().detach() or sourceTensor.clone().detach().requires_grad_(True), rather than torch.tensor(sourceTensor).\n",
            "  return self.encoder(torch.tensor(line).long(), num_classes=self.numClass)\n"
          ]
        },
        {
          "output_type": "stream",
          "name": "stdout",
          "text": [
            "TEST Epoch: 15/15 : TEST LOSS = 0.8306346535682678 TEST Accuracy = 0.7645833333333333\n"
          ]
        }
      ]
    },
    {
      "cell_type": "code",
      "source": [
        "#print(list_label)\n",
        "#print(list_pred)\n",
        "list_label = [int(t) for t in list_label]\n",
        "list_pred = [int(t) for t in list_pred]\n",
        "cm = confusion_matrix(list_label, list_pred)\n",
        "#print(cm)\n",
        "plt.figure(figsize=(10, 10))\n",
        "axis_labels = [\"joy\", \"sadness\", \"anger\", \"fear\", \"love\", \"surprise\"]\n",
        "sns.heatmap(cm, annot=True, xticklabels=axis_labels, yticklabels=axis_labels, fmt=\"d\", cmap=\"Blues\")\n",
        "plt.title(\"Confusion matrix\")\n",
        "plt.ylabel(\"Actual label\")\n",
        "plt.xlabel(\"Predicted label\")\n",
        "plt.savefig(\"confusion_matrix.png\")\n",
        "plt.show()"
      ],
      "metadata": {
        "colab": {
          "base_uri": "https://localhost:8080/",
          "height": 621
        },
        "id": "7HK-Q9GMrxzy",
        "outputId": "da79f623-0bc3-43c5-e7d7-5e6610350172"
      },
      "execution_count": null,
      "outputs": [
        {
          "output_type": "display_data",
          "data": {
            "text/plain": [
              "<Figure size 720x720 with 2 Axes>"
            ],
            "image/png": "[encoded data removed]"
          },
          "metadata": {
            "needs_background": "light"
          }
        }
      ]
    }
  ]
}